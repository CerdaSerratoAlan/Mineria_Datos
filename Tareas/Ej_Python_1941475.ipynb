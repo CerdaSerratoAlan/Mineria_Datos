{
  "nbformat": 4,
  "nbformat_minor": 0,
  "metadata": {
    "colab": {
      "name": "Ej_Python_1941475.ipynb",
      "provenance": [],
      "collapsed_sections": []
    },
    "kernelspec": {
      "name": "python3",
      "display_name": "Python 3"
    },
    "language_info": {
      "name": "python"
    }
  },
  "cells": [
    {
      "cell_type": "markdown",
      "metadata": {
        "id": "T6N1_Ubq3pto"
      },
      "source": [
        "# Ejercicios Básicos"
      ]
    },
    {
      "cell_type": "markdown",
      "metadata": {
        "id": "0RD4zYnl3Lg4"
      },
      "source": [
        "## Ejercicio 1"
      ]
    },
    {
      "cell_type": "markdown",
      "metadata": {
        "id": "RNJutbrh1Nsf"
      },
      "source": [
        "Realiza una variable con tu matricula y realiza una secuencia de imprimir con tu nombre y tu matricula concatenados."
      ]
    },
    {
      "cell_type": "code",
      "metadata": {
        "colab": {
          "base_uri": "https://localhost:8080/"
        },
        "id": "auT7jScx0r8Y",
        "outputId": "4495270e-ca97-456e-f04e-f28ae7e695ef"
      },
      "source": [
        "mat = 1941475\n",
        "print (\"Jesús Alfonso Galindo Vázquez\", mat)"
      ],
      "execution_count": 114,
      "outputs": [
        {
          "output_type": "stream",
          "text": [
            "Jesús Alfonso Galindo Vázquez 1941475\n"
          ],
          "name": "stdout"
        }
      ]
    },
    {
      "cell_type": "markdown",
      "metadata": {
        "id": "i8JQntCM4A5x"
      },
      "source": [
        "## Ejercicio 2"
      ]
    },
    {
      "cell_type": "markdown",
      "metadata": {
        "id": "jcfuSOqh4Nlv"
      },
      "source": [
        "Pidiendo el input del usuario pide dos números y crea una pequeña calculadora con los operadores básicos de suma, resta, multiplicación, división, y exponente."
      ]
    },
    {
      "cell_type": "code",
      "metadata": {
        "colab": {
          "base_uri": "https://localhost:8080/"
        },
        "id": "VcA6Y9S84NCc",
        "outputId": "0c84de19-04e7-40f1-c244-4cb453f38085"
      },
      "source": [
        "n1 = float(input(\"Escribe el primer número \\n(Este número es el minuendo, base y dividendo en las operaciones): \")) #Se usa float para que admita la introducción de decimales\n",
        "n2 = float(input(\"\\nEscribe el segundo número \\n(Este número es el sustraendo, exponente y divisor en las operaciones): \"))\n",
        "s = n1 + n2\n",
        "r = n1 - n2\n",
        "m = n1 * n2\n",
        "d = n1 / n2\n",
        "e = n1 ** n2\n",
        "print (\"\\nResultados \\n Suma = \", s, \"\\n Resta = \", r, \"\\n Multiplicación = \", m, \"\\n División = \", d, \"\\n Potencia = \", e)"
      ],
      "execution_count": 116,
      "outputs": [
        {
          "output_type": "stream",
          "text": [
            "Escribe el primer número \n",
            "(Este número es el minuendo, base y dividendo en las operaciones): 3.5\n",
            "\n",
            "Escribe el segundo número \n",
            "(Este número es el sustraendo, exponente y divisor en las operaciones): 2\n",
            "\n",
            "Resultados \n",
            " Suma =  5.5 \n",
            " Resta =  1.5 \n",
            " Multiplicación =  7.0 \n",
            " División =  1.75 \n",
            " Potencia =  12.25\n"
          ],
          "name": "stdout"
        }
      ]
    },
    {
      "cell_type": "markdown",
      "metadata": {
        "id": "2mQAd31P9tly"
      },
      "source": [
        "## Ejercicio 3"
      ]
    },
    {
      "cell_type": "markdown",
      "metadata": {
        "id": "POHX1sZc9177"
      },
      "source": [
        "Con loop while o for, realiza una lista de 10 numeros multiplos de 3, y después realiza una función de loop que sume todos los números dentro del arreglo."
      ]
    },
    {
      "cell_type": "code",
      "metadata": {
        "colab": {
          "base_uri": "https://localhost:8080/"
        },
        "id": "5KYcR2h591CW",
        "outputId": "a84d99c1-d315-44f7-ee71-805c1ecb5f90"
      },
      "source": [
        "i = 1\n",
        "m3 = 0\n",
        "suma = 0\n",
        "print (\"10 números múltiplos de 3:\")\n",
        "while i <= 10:\n",
        "  m3 = i * 3\n",
        "  suma = suma + m3\n",
        "  i = i + 1\n",
        "  print (\" \", m3)\n",
        "print (\"\\nLa suma de los números anteriores es: \", suma)\n"
      ],
      "execution_count": 117,
      "outputs": [
        {
          "output_type": "stream",
          "text": [
            "10 números múltiplos de 3:\n",
            "  3\n",
            "  6\n",
            "  9\n",
            "  12\n",
            "  15\n",
            "  18\n",
            "  21\n",
            "  24\n",
            "  27\n",
            "  30\n",
            "\n",
            "La suma de los números anteriores es:  165\n"
          ],
          "name": "stdout"
        }
      ]
    },
    {
      "cell_type": "markdown",
      "metadata": {
        "id": "x4jekIMLJPLs"
      },
      "source": [
        "## Ejercicio 4"
      ]
    },
    {
      "cell_type": "markdown",
      "metadata": {
        "id": "Q8Jmt4efJV6Z"
      },
      "source": [
        "- Con una función de if else, revisar si un número es par o impar."
      ]
    },
    {
      "cell_type": "code",
      "metadata": {
        "colab": {
          "base_uri": "https://localhost:8080/"
        },
        "id": "acJeOfhXKIlS",
        "outputId": "2d1a1571-e065-4c99-bb27-de2fd4f45bf5"
      },
      "source": [
        "a = int(input(\"Escriba un número entero para determinar si es par o impar: \"))\n",
        "if a % 2 == 0:\n",
        "  print (\"El número \", a, \" es par\")\n",
        "else:\n",
        "  print (\"El número \", a, \" es impar\")"
      ],
      "execution_count": 118,
      "outputs": [
        {
          "output_type": "stream",
          "text": [
            "Escriba un número entero para determinar si es par o impar: 5\n",
            "El número  5  es impar\n"
          ],
          "name": "stdout"
        }
      ]
    },
    {
      "cell_type": "markdown",
      "metadata": {
        "id": "Rdr8CG-TKJC0"
      },
      "source": [
        "- Con una función de if else, revisar si un número es primo o no.\n",
        "\n",
        "[Acerca de los números primos](https://www.varsitytutors.com/hotmath/hotmath_help/spanish/topics/prime-composite)"
      ]
    },
    {
      "cell_type": "code",
      "metadata": {
        "colab": {
          "base_uri": "https://localhost:8080/"
        },
        "id": "tAmmn0BaKK_v",
        "outputId": "8c9a75d1-40a8-45e2-de30-e95cc48f5396"
      },
      "source": [
        "b = 1\n",
        "while b <= 1:\n",
        "  b = int(input(\"Escriba un número entero mayor a 1 para determinar si es primo o no: \"))\n",
        "if b == 2:\n",
        "  print (\"El número \", b, \" es primo (es el primer número primo)\")\n",
        "else:\n",
        "  for j in range(2, b):\n",
        "    if b % j == 0:\n",
        "      print (\"El número \", b, \" no es primo\")\n",
        "      break\n",
        "    else:\n",
        "      print (\"El número \", b, \" es primo\")\n",
        "      break"
      ],
      "execution_count": 147,
      "outputs": [
        {
          "output_type": "stream",
          "text": [
            "Escriba un número entero mayor a 1 para determinar si es primo o no: 23\n",
            "El número  23  es primo\n"
          ],
          "name": "stdout"
        }
      ]
    },
    {
      "cell_type": "markdown",
      "metadata": {
        "id": "vJYEA1TKTbe8"
      },
      "source": [
        "## Ejercicio 5"
      ]
    },
    {
      "cell_type": "markdown",
      "metadata": {
        "id": "ArUcJ4T4ThL0"
      },
      "source": [
        "Utilizando diferentes clases en python, crea una calculadora con los operadores básicos de suma, resta, multiplicación, división, y exponente.\n",
        "\n",
        "[Sobre las clases](https://docs.python.org/es/3/tutorial/classes.html)"
      ]
    },
    {
      "cell_type": "code",
      "metadata": {
        "colab": {
          "base_uri": "https://localhost:8080/"
        },
        "id": "t_J0yBkoTpk6",
        "outputId": "24250e4a-fa73-43fc-8925-7c45d1db9c6d"
      },
      "source": [
        "class mini_calculadora:\n",
        "  def sumar(self, a, b):\n",
        "    op = a + b\n",
        "    print (\"El resultado de la suma es: \", op, \"\\n----------------------------------------------------\")\n",
        "  def restar(self, a, b):\n",
        "    op = a - b\n",
        "    print (\"El resultado de la resta es: \", op, \"\\n----------------------------------------------------\")\n",
        "  def multiplicar(self, a, b):\n",
        "    op = a * b\n",
        "    print (\"El resultado de la multiplicación es: \", op, \"\\n----------------------------------------------------\")\n",
        "  def dividir(self, a, b):\n",
        "    op = a / b\n",
        "    print (\"El resultado de la división es: \", op, \"\\n----------------------------------------------------\")\n",
        "  def potencia(self, a, b):\n",
        "    op = a ** b\n",
        "    print (\"El resultado de la potencia es: \", op, \"\\n----------------------------------------------------\")\n",
        "\n",
        "a = float(input(\"Escribe el primer número \\n(Este número es el minuendo, base o dividendo en las operaciones): \")) #Se usa float para que admita la introducción de decimales\n",
        "b = float(input(\"\\nEscribe el segundo número \\n(Este número es el sustraendo, exponente o divisor en las operaciones): \"))\n",
        "calculo = mini_calculadora()\n",
        "\n",
        "i = 1\n",
        "while i > 0:\n",
        "  print (\"\\nCALCULADORA\\nSeleccione la operación que desee realizar\\nEscriba el número correspondiente al cálculo deseado\\nSi desea salir escriba cualquier otro número:\\n 1 - Suma\\n 2 - Resta\\n 3 - Multiplicación\\n 4 - División\\n 5 - Potencia\\n\")\n",
        "  aux = int(input(\"Operación seleccionada: \"))\n",
        "  if aux == 1:\n",
        "    calculo.sumar(a, b)\n",
        "    dec = int(input(\"\\n¿Desea hacer otro cálculo?\\nEscriba el número de la opción deseada:\\n 1 - Sí\\n 2 - No\\nTenga en cuanta que si escribe cualquier otro número saldrá de la calculadora: \"))\n",
        "    if dec != 1:\n",
        "      break\n",
        "    else:\n",
        "      a = float(input(\"\\nEscribe el primer número \\n(Este número es el minuendo, base o dividendo en las operaciones): \"))\n",
        "      b = float(input(\"\\nEscribe el segundo número \\n(Este número es el sustraendo, exponente o divisor en las operaciones): \"))\n",
        "  elif aux == 2:\n",
        "    calculo.restar(a, b)\n",
        "    dec = int(input(\"\\n¿Desea hacer otro cálculo?\\nEscriba el número de la opción deseada:\\n 1 - Sí\\n 2 - No\\nTenga en cuanta que si escribe cualquier otro número saldrá de la calculadora: \"))\n",
        "    if dec != 1:\n",
        "      break\n",
        "    else:\n",
        "      a = float(input(\"\\nEscribe el primer número \\n(Este número es el minuendo, base o dividendo en las operaciones): \"))\n",
        "      b = float(input(\"\\nEscribe el segundo número \\n(Este número es el sustraendo, exponente o divisor en las operaciones): \"))\n",
        "  elif aux == 3:\n",
        "    calculo.multiplicar(a, b)\n",
        "    dec = int(input(\"\\n¿Desea hacer otro cálculo?\\nEscriba el número de la opción deseada:\\n 1 - Sí\\n 2 - No\\nTenga en cuanta que si escribe cualquier otro número saldrá de la calculadora: \"))\n",
        "    if dec != 1:\n",
        "      break\n",
        "    else:\n",
        "      a = float(input(\"\\nEscribe el primer número \\n(Este número es el minuendo, base o dividendo en las operaciones): \"))\n",
        "      b = float(input(\"\\nEscribe el segundo número \\n(Este número es el sustraendo, exponente o divisor en las operaciones): \"))\n",
        "  elif aux == 4:\n",
        "    calculo.dividir(a, b)\n",
        "    dec = int(input(\"\\n¿Desea hacer otro cálculo?\\nEscriba el número de la opción deseada:\\n 1 - Sí\\n 2 - No\\nTenga en cuanta que si escribe cualquier otro número saldrá de la calculadora: \"))\n",
        "    if dec != 1:\n",
        "      break\n",
        "    else:\n",
        "      a = float(input(\"\\nEscribe el primer número \\n(Este número es el minuendo, base o dividendo en las operaciones): \"))\n",
        "      b = float(input(\"\\nEscribe el segundo número \\n(Este número es el sustraendo, exponente o divisor en las operaciones): \"))\n",
        "  elif aux == 5:\n",
        "    calculo.potencia(a, b)\n",
        "    dec = int(input(\"\\n¿Desea hacer otro cálculo?\\nEscriba el número de la opción deseada:\\n 1 - Sí\\n 2 - No\\nTenga en cuanta que si escribe cualquier otro número saldrá de la calculadora: \"))\n",
        "    if dec != 1:\n",
        "      break\n",
        "    else:\n",
        "      a = float(input(\"\\nEscribe el primer número 5\\n(Este número es el minuendo, base o dividendo en las operaciones): \"))\n",
        "      b = float(input(\"\\nEscribe el segundo número \\n(Este número es el sustraendo, exponente o divisor en las operaciones): \"))\n",
        "  else:\n",
        "    break"
      ],
      "execution_count": 121,
      "outputs": [
        {
          "output_type": "stream",
          "text": [
            "Escribe el primer número \n",
            "(Este número es el minuendo, base o dividendo en las operaciones): 3.5\n",
            "\n",
            "Escribe el segundo número \n",
            "(Este número es el sustraendo, exponente o divisor en las operaciones): 2\n",
            "\n",
            "CALCULADORA\n",
            "Seleccione la operación que desee realizar\n",
            "Escriba el número correspondiente al cálculo deseado\n",
            "Si desea salir escriba cualquier otro número:\n",
            " 1 - Suma\n",
            " 2 - Resta\n",
            " 3 - Multiplicación\n",
            " 4 - División\n",
            " 5 - Potencia\n",
            "\n",
            "Operación seleccionada: 1\n",
            "El resultado de la suma es:  5.5 \n",
            "----------------------------------------------------\n",
            "\n",
            "¿Desea hacer otro cálculo?\n",
            "Escriba el número de la opción deseada:\n",
            " 1 - Sí\n",
            " 2 - No\n",
            "Tenga en cuanta que si escribe cualquier otro número saldrá de la calculadora: 1\n",
            "\n",
            "Escribe el primer número \n",
            "(Este número es el minuendo, base o dividendo en las operaciones): 4\n",
            "\n",
            "Escribe el segundo número \n",
            "(Este número es el sustraendo, exponente o divisor en las operaciones): 2\n",
            "\n",
            "CALCULADORA\n",
            "Seleccione la operación que desee realizar\n",
            "Escriba el número correspondiente al cálculo deseado\n",
            "Si desea salir escriba cualquier otro número:\n",
            " 1 - Suma\n",
            " 2 - Resta\n",
            " 3 - Multiplicación\n",
            " 4 - División\n",
            " 5 - Potencia\n",
            "\n",
            "Operación seleccionada: 3\n",
            "El resultado de la multiplicación es:  8.0 \n",
            "----------------------------------------------------\n",
            "\n",
            "¿Desea hacer otro cálculo?\n",
            "Escriba el número de la opción deseada:\n",
            " 1 - Sí\n",
            " 2 - No\n",
            "Tenga en cuanta que si escribe cualquier otro número saldrá de la calculadora: 2\n"
          ],
          "name": "stdout"
        }
      ]
    },
    {
      "cell_type": "markdown",
      "metadata": {
        "id": "9sG80xCBob9m"
      },
      "source": [
        "# Ejercicios con estructuras básicas de python"
      ]
    },
    {
      "cell_type": "markdown",
      "metadata": {
        "id": "TsW1NWkAonln"
      },
      "source": [
        "## Tuplas"
      ]
    },
    {
      "cell_type": "markdown",
      "metadata": {
        "id": "U1uoPEXUof4E"
      },
      "source": [
        "- Crear una variable flotante, integer, booleana y compleja e imprimir el tipo de variable que es."
      ]
    },
    {
      "cell_type": "code",
      "metadata": {
        "colab": {
          "base_uri": "https://localhost:8080/"
        },
        "id": "a64IWhWso3gq",
        "outputId": "bc9748c9-e249-46e8-b2a9-6cbfbf2cb4c1"
      },
      "source": [
        "fl = 2.47\n",
        "ent = 10\n",
        "boo = 2 != 9\n",
        "comp = 2 - 4j\n",
        "print(\"La variable fl = \", fl, \" es: \", type(fl), \" (variable flotante)\", \"\\n\\nLa variable ent = \", ent, \" es: \", type(ent), \" (variable entera)\", \"\\n\\nLa variable boo = 2!=9 = \", boo, \" es: \", type(boo), \" (variable booleana)\", \"\\n\\nLa variable comp = 2 - 4j es: \", type(comp), \" (variable compleja)\")"
      ],
      "execution_count": 122,
      "outputs": [
        {
          "output_type": "stream",
          "text": [
            "La variable fl =  2.47  es:  <class 'float'>  (variable flotante) \n",
            "\n",
            "La variable ent =  10  es:  <class 'int'>  (variable entera) \n",
            "\n",
            "La variable boo = 2!=9 =  True  es:  <class 'bool'>  (variable booleana) \n",
            "\n",
            "La variable comp = 2 - 4j es:  <class 'complex'>  (variable compleja)\n"
          ],
          "name": "stdout"
        }
      ]
    },
    {
      "cell_type": "markdown",
      "metadata": {
        "id": "IiL4tLgro-qJ"
      },
      "source": [
        "- Crear una tupla con valores enteros imprimir el primer y ultimo valor.\n",
        "\n",
        "[Obtener último elemento](https://www.delftstack.com/es/howto/python/get-last-element-of-list-in-python/)"
      ]
    },
    {
      "cell_type": "code",
      "metadata": {
        "colab": {
          "base_uri": "https://localhost:8080/"
        },
        "id": "LFrugHKqpDHW",
        "outputId": "c7b7fdaf-bb9f-4d79-9dc2-d36cc66c7b3c"
      },
      "source": [
        "tupla = (1, 8, 9, 5, 3, 6, 19, 10)\n",
        "print (\"El primer valor de la tupla es: \", tupla[0], \"\\nEl último valor de la tupla es: \", tupla[-1])"
      ],
      "execution_count": 123,
      "outputs": [
        {
          "output_type": "stream",
          "text": [
            "El primer valor de la tupla es:  1 \n",
            "El último valor de la tupla es:  10\n"
          ],
          "name": "stdout"
        }
      ]
    },
    {
      "cell_type": "markdown",
      "metadata": {
        "id": "Dk5h58KDpEDJ"
      },
      "source": [
        "- Añadir 3 valores de string a la tupla.\n",
        "\n",
        "[Agregar valores](https://www.it-swarm-es.com/es/python/como-agregar-valor-una-tupla/972119161/)"
      ]
    },
    {
      "cell_type": "code",
      "metadata": {
        "colab": {
          "base_uri": "https://localhost:8080/"
        },
        "id": "BYHT0lQNpGSM",
        "outputId": "e5a1b6e5-e434-4381-9c49-9fa48b1e11ba"
      },
      "source": [
        "tupla = (1, 8, 9, 5, 3, 6, 19, 10)\n",
        "tupla = tupla + (\"Añadí\", \"tres\", \"strings\")\n",
        "print(tupla)"
      ],
      "execution_count": 124,
      "outputs": [
        {
          "output_type": "stream",
          "text": [
            "(1, 8, 9, 5, 3, 6, 19, 10, 'Añadí', 'tres', 'strings')\n"
          ],
          "name": "stdout"
        }
      ]
    },
    {
      "cell_type": "markdown",
      "metadata": {
        "id": "GDj0bMlgpG_M"
      },
      "source": [
        "- Verificar si una variable existe dentro de la tupla."
      ]
    },
    {
      "cell_type": "code",
      "metadata": {
        "colab": {
          "base_uri": "https://localhost:8080/"
        },
        "id": "CmMvFI-7pJas",
        "outputId": "ae5edc95-d5fd-4441-c1a1-8bb26eb8e806"
      },
      "source": [
        "tupla = (1, 8, 9, 5, 3, 6, 19, 10, \"Añadí\", \"tres\", \"strings\")\n",
        "x = input(\"Escriba el dato que desea comprobar si está en la tupla: \")\n",
        "if len(x) > 2:\n",
        "  if (x in tupla) == True:\n",
        "    print(\"El dato \", x, \" está en la tupla\")\n",
        "  else:\n",
        "    print(\"El dato \", x, \" no está en la tupla\")\n",
        "else:\n",
        "  x = int(x)\n",
        "  if (x in tupla) == True:\n",
        "    print(\"El número \", x, \" está en la tupla\")\n",
        "  else:\n",
        "    print(\"El número \", x, \" no está en la tupla\")\n"
      ],
      "execution_count": 139,
      "outputs": [
        {
          "output_type": "stream",
          "text": [
            "Escriba el dato que desea comprobar si está en la tupla: 2\n",
            "El número  2  no está en la tupla\n"
          ],
          "name": "stdout"
        }
      ]
    },
    {
      "cell_type": "markdown",
      "metadata": {
        "id": "i6ELiFLwpMg5"
      },
      "source": [
        "## Listas"
      ]
    },
    {
      "cell_type": "markdown",
      "metadata": {
        "id": "KxJFwMZLpRZN"
      },
      "source": [
        "- Crear una lista con 40 elementos aleatorios enteros.\n",
        "- Con una funcion (def) crear dos listas nuevas a partir de la lista creada por numeros aleatorios, en la cual en una esten los elementos pares, y en la otra los elementos impares.\n",
        "- Crear dos variables con la longitud de ambas listas nuevas e imprimir las variables.\n",
        "- Ordenar los elementos de la lista par de mayor a menor, y los de la lista impar de menor a mayor.\n",
        "- Utilizar al menos cuatro de las funciones de listas en python en la lista original de 40 elementos.\n",
        "\n",
        "[\"Inicializar\" una lista](https://es.stackoverflow.com/questions/124063/crear-una-lista-de-numeros-aleatorios-en-python)\n",
        "\n",
        "[Ordenar los datos en las listas](https://j2logo.com/python/ordenar-una-lista-en-python/)"
      ]
    },
    {
      "cell_type": "code",
      "metadata": {
        "colab": {
          "base_uri": "https://localhost:8080/"
        },
        "id": "7BNT5qxDpYBS",
        "outputId": "821e84aa-6f7e-408f-ca24-c8118d0d1834"
      },
      "source": [
        "#--------------------------------------Crear una lista con 40 elementos aleatorios enteros------------------------------------\n",
        "import random as rand\n",
        "lista = [0] * 40\n",
        "for i in range(40):\n",
        "  lista[i] = rand.randint(0,2000)\n",
        "for i in range(40):\n",
        "  print (i+1, \" - \", lista[i])\n",
        "#-----------------------------------------------------------------------------------------------------------------------------\n",
        "print (\"----------------------------------------------------------------------------------------------------------------------------------------------------\")\n",
        "\n",
        "\n",
        "#----------------------------Crear 2 listas nuevas separando la anterior en pares e impares-----------------------------------\n",
        "par = 0\n",
        "impar = 0\n",
        "for i in range(40):\n",
        "  if lista[i] % 2 == 0:\n",
        "    par = par + 1\n",
        "  else:\n",
        "    impar = impar + 1\n",
        "\n",
        "lpar = [0] * par\n",
        "limpar = [0] * impar\n",
        "p = 0\n",
        "ip = 0\n",
        "for i in range(40):\n",
        "  if lista[i] % 2 == 0:\n",
        "    lpar[p] = lista[i]\n",
        "    p = p + 1\n",
        "  else:\n",
        "    limpar[ip] = lista[i]\n",
        "    ip = ip + 1\n",
        "print(\"Al separar la lista anterior en pares e impares obtenemos las listas:\\n\\nPares: \", lpar, \"\\nImpares: \", limpar)\n",
        "#------------------------------------------------------------------------------------------------------------------------------\n",
        "print (\"----------------------------------------------------------------------------------------------------------------------------------------------------\")\n",
        "\n",
        "\n",
        "#------------------------------------Longitud de las 2 listas nuevas (pares e impares)-----------------------------------------\n",
        "llpares = len(lpar)\n",
        "llimpares = len(limpar)\n",
        "print (\"La longitud de la lista de elementos pares es: \", llpares, \"\\nLa longitud de la lista de elementos impares es: \", llimpares)\n",
        "#------------------------------------------------------------------------------------------------------------------------------\n",
        "print (\"----------------------------------------------------------------------------------------------------------------------------------------------------\")\n",
        "\n",
        "\n",
        "#-----------------------------------Ordenar pares de mayor a menor y los impares de menor a mayor------------------------------\n",
        "lpar.sort(reverse = True)\n",
        "limpar.sort()\n",
        "print (\"La lista par ordenada de mayor a menor queda: \", lpar, \"\\nLa lista impar ordenada de menor a mayor queda: \", limpar)\n",
        "#------------------------------------------------------------------------------------------------------------------------------\n",
        "print (\"----------------------------------------------------------------------------------------------------------------------------------------------------\")\n",
        "\n",
        "\n",
        "#-------------------------Uso de al menos 4 funciones de listas de python en la lista original---------------------------------\n",
        "#Uso 1\n",
        "lista.insert(0, \"Insertado\") #Insertar un dato en la primera posición\n",
        "print (\"1.- La lista con el elemento insertado en la primera posición es: \", lista)\n",
        "\n",
        "#Uso 2\n",
        "lista.remove(lista[0]) #Quita de la lista el dato que está en la primera posición\n",
        "print (\"2.- La lista con el primer dato removido es: \", lista)\n",
        "\n",
        "#Uso 3\n",
        "a = lista.pop() #Muestra el último valor de la lista\n",
        "print (\"3.- El último valor de la lista es: \", a)\n",
        "\n",
        "#Uso 4\n",
        "b = lista[:10] #Me da los valores a partir de la posición que quiero hasta el final\n",
        "print (\"4.- Los primeros 10 valores de la lista son:\", b)"
      ],
      "execution_count": 141,
      "outputs": [
        {
          "output_type": "stream",
          "text": [
            "1  -  1821\n",
            "2  -  1484\n",
            "3  -  825\n",
            "4  -  1200\n",
            "5  -  1968\n",
            "6  -  953\n",
            "7  -  1069\n",
            "8  -  984\n",
            "9  -  1288\n",
            "10  -  1073\n",
            "11  -  950\n",
            "12  -  1816\n",
            "13  -  1280\n",
            "14  -  1975\n",
            "15  -  430\n",
            "16  -  1767\n",
            "17  -  217\n",
            "18  -  1787\n",
            "19  -  244\n",
            "20  -  1040\n",
            "21  -  1685\n",
            "22  -  1534\n",
            "23  -  763\n",
            "24  -  1148\n",
            "25  -  547\n",
            "26  -  408\n",
            "27  -  1028\n",
            "28  -  834\n",
            "29  -  1504\n",
            "30  -  721\n",
            "31  -  237\n",
            "32  -  792\n",
            "33  -  1569\n",
            "34  -  1518\n",
            "35  -  686\n",
            "36  -  1992\n",
            "37  -  622\n",
            "38  -  1663\n",
            "39  -  1191\n",
            "40  -  1770\n",
            "----------------------------------------------------------------------------------------------------------------------------------------------------\n",
            "Al separar la lista anterior en pares e impares obtenemos las listas:\n",
            "\n",
            "Pares:  [1484, 1200, 1968, 984, 1288, 950, 1816, 1280, 430, 244, 1040, 1534, 1148, 408, 1028, 834, 1504, 792, 1518, 686, 1992, 622, 1770] \n",
            "Impares:  [1821, 825, 953, 1069, 1073, 1975, 1767, 217, 1787, 1685, 763, 547, 721, 237, 1569, 1663, 1191]\n",
            "----------------------------------------------------------------------------------------------------------------------------------------------------\n",
            "La longitud de la lista de elementos pares es:  23 \n",
            "La longitud de la lista de elementos impares es:  17\n",
            "----------------------------------------------------------------------------------------------------------------------------------------------------\n",
            "La lista par ordenada de mayor a menor queda:  [1992, 1968, 1816, 1770, 1534, 1518, 1504, 1484, 1288, 1280, 1200, 1148, 1040, 1028, 984, 950, 834, 792, 686, 622, 430, 408, 244] \n",
            "La lista impar ordenada de menor a mayor queda:  [217, 237, 547, 721, 763, 825, 953, 1069, 1073, 1191, 1569, 1663, 1685, 1767, 1787, 1821, 1975]\n",
            "----------------------------------------------------------------------------------------------------------------------------------------------------\n",
            "1.- La lista con el elemento insertado en la primera posición es:  ['Insertado', 1821, 1484, 825, 1200, 1968, 953, 1069, 984, 1288, 1073, 950, 1816, 1280, 1975, 430, 1767, 217, 1787, 244, 1040, 1685, 1534, 763, 1148, 547, 408, 1028, 834, 1504, 721, 237, 792, 1569, 1518, 686, 1992, 622, 1663, 1191, 1770]\n",
            "2.- La lista con el primer dato removido es:  [1821, 1484, 825, 1200, 1968, 953, 1069, 984, 1288, 1073, 950, 1816, 1280, 1975, 430, 1767, 217, 1787, 244, 1040, 1685, 1534, 763, 1148, 547, 408, 1028, 834, 1504, 721, 237, 792, 1569, 1518, 686, 1992, 622, 1663, 1191, 1770]\n",
            "3.- El último valor de la lista es:  1770\n",
            "4.- Los primeros 10 valores de la lista son: [1821, 1484, 825, 1200, 1968, 953, 1069, 984, 1288, 1073]\n"
          ],
          "name": "stdout"
        }
      ]
    },
    {
      "cell_type": "markdown",
      "metadata": {
        "id": "ivmSJKj4qFDw"
      },
      "source": [
        "## Diccionarios"
      ]
    },
    {
      "cell_type": "markdown",
      "metadata": {
        "id": "2Mj8-KVsqI8U"
      },
      "source": [
        "- Crear un diccionario de 6 personas que conozcas con su primer nombre y su edad.\n",
        "\n",
        "[Crear diccionarios](https://devcode.la/tutoriales/diccionarios-en-python/)"
      ]
    },
    {
      "cell_type": "code",
      "metadata": {
        "colab": {
          "base_uri": "https://localhost:8080/"
        },
        "id": "95hCIP2qqPQ9",
        "outputId": "74b52812-264b-42cf-ea59-de0842f939d7"
      },
      "source": [
        "diccionario = {'Nombre' : [\"Alejandro\", \"Bryan\", \"Iván\", \"Araceli\", \"Fernanda\", \"Karina\"], 'Edad' : [21, 21, 22, 16, 20, 23]}\n",
        "for i in range(0, 6):\n",
        "  print (diccionario['Nombre'][i], \":\", diccionario['Edad'][i], \" años\")"
      ],
      "execution_count": 142,
      "outputs": [
        {
          "output_type": "stream",
          "text": [
            "Alejandro : 21  años\n",
            "Bryan : 21  años\n",
            "Iván : 22  años\n",
            "Araceli : 16  años\n",
            "Fernanda : 20  años\n",
            "Karina : 23  años\n"
          ],
          "name": "stdout"
        }
      ]
    },
    {
      "cell_type": "markdown",
      "metadata": {
        "id": "kyifA5ngqPrs"
      },
      "source": [
        "- Crear una lista con los valores de la edad y reacomodar la lista de menor a mayor valor."
      ]
    },
    {
      "cell_type": "code",
      "metadata": {
        "colab": {
          "base_uri": "https://localhost:8080/"
        },
        "id": "jFBUj9J1qUY6",
        "outputId": "02a94ffc-3777-44c1-bbb7-f59d1fdfe0da"
      },
      "source": [
        "diccionario = {'Nombre' : [\"Alejandro\", \"Bryan\", \"Iván\", \"Araceli\", \"Fernanda\", \"Karina\"], 'Edad' : [21, 21, 22, 16, 20, 23]}\n",
        "diccionario['Edad'].sort()\n",
        "print (\"Edades ordenadas de menor a mayor: \", diccionario['Edad'])"
      ],
      "execution_count": 143,
      "outputs": [
        {
          "output_type": "stream",
          "text": [
            "Edades ordenadas de menor a mayor:  [16, 20, 21, 21, 22, 23]\n"
          ],
          "name": "stdout"
        }
      ]
    },
    {
      "cell_type": "markdown",
      "metadata": {
        "id": "Zw6-qII-qU4E"
      },
      "source": [
        "- Usando el diccionario y un loop, imprimir solo los nombres."
      ]
    },
    {
      "cell_type": "code",
      "metadata": {
        "colab": {
          "base_uri": "https://localhost:8080/"
        },
        "id": "0o4Ag4hDqYGk",
        "outputId": "2ee28475-d256-4ffd-e138-544cf42fa709"
      },
      "source": [
        "diccionario = {'Nombre' : [\"Alejandro\", \"Bryan\", \"Iván\", \"Araceli\", \"Fernanda\", \"Karina\"], 'Edad' : [21, 21, 22, 16, 20, 23]}\n",
        "print (\"Nombres:\\n-----------\")\n",
        "for i in range(0, 6):\n",
        "  print (diccionario['Nombre'][i])\n"
      ],
      "execution_count": 144,
      "outputs": [
        {
          "output_type": "stream",
          "text": [
            "Nombres:\n",
            "-----------\n",
            "Alejandro\n",
            "Bryan\n",
            "Iván\n",
            "Araceli\n",
            "Fernanda\n",
            "Karina\n"
          ],
          "name": "stdout"
        }
      ]
    },
    {
      "cell_type": "markdown",
      "metadata": {
        "id": "9GihzKs5qYhQ"
      },
      "source": [
        "- Añadir dos personas nuevas a tu diccionario, incluyendo edad."
      ]
    },
    {
      "cell_type": "code",
      "metadata": {
        "colab": {
          "base_uri": "https://localhost:8080/"
        },
        "id": "wmeQVWhvqZql",
        "outputId": "a380a978-bd3e-4462-df4c-fe9dd3345a94"
      },
      "source": [
        "diccionario = {'Nombre' : [\"Alejandro\", \"Bryan\", \"Iván\", \"Araceli\", \"Fernanda\", \"Karina\"], 'Edad' : [21, 21, 22, 16, 20, 23]}\n",
        "diccionario['Nombre'] = diccionario['Nombre'] + [\"Alberto\", \"Sara\"]\n",
        "diccionario['Edad'] = diccionario['Edad'] + [25, 18]\n",
        "for i in range(0, 8):\n",
        "  print(diccionario['Nombre'][i], \":\", diccionario['Edad'][i])"
      ],
      "execution_count": 145,
      "outputs": [
        {
          "output_type": "stream",
          "text": [
            "Alejandro : 21\n",
            "Bryan : 21\n",
            "Iván : 22\n",
            "Araceli : 16\n",
            "Fernanda : 20\n",
            "Karina : 23\n",
            "Alberto : 25\n",
            "Sara : 18\n"
          ],
          "name": "stdout"
        }
      ]
    },
    {
      "cell_type": "markdown",
      "metadata": {
        "id": "MP8DRn6Aqeh4"
      },
      "source": [
        "## Sets"
      ]
    },
    {
      "cell_type": "markdown",
      "metadata": {
        "id": "jGjpSBKKqiaN"
      },
      "source": [
        "- Crea un set con 100 numeros aleatorios enteros del 1 al 25.\n",
        "- Comprueba la longitud de tu set.\n",
        "- Crea una lista de 5 números aleatorios del 1 al 10 y comprueba si cada valor aparece en el set inicial.\n",
        "\n",
        "[Sets en python](https://hetpro-store.com/TUTORIALES/set-en-python-7-colecciones/)\n",
        "\n",
        "[Tipos y operaciones comunes de sets](https://j2logo.com/python/tutorial/tipo-set-python/)"
      ]
    },
    {
      "cell_type": "code",
      "metadata": {
        "colab": {
          "base_uri": "https://localhost:8080/"
        },
        "id": "LcfEmIhrqk4X",
        "outputId": "9eb89fc7-d32b-4248-a9bf-5c689e9a8ee2"
      },
      "source": [
        "#-----------------------------Creación del set con 100 números aleatorios del 1 al 25---------------------------------\n",
        "import random as rand\n",
        "num_aleatorios = [0] * 100\n",
        "for i in range(0, 100):\n",
        "  num_aleatorios[i] = rand.randint(1, 25)\n",
        "sna = set(num_aleatorios)\n",
        "print(\"El set es: \", sna, \"\\nEl set no puede tener más de 25 datos porque se eliminan los datos iguales\")\n",
        "#Lo máximo son 25 números, porque un set elimina los datos repetidos.\n",
        "#---------------------------------------------------------------------------------------------------------------------\n",
        "print (\"---------------------------------------------------------------------------------------------------------------------\")\n",
        "\n",
        "\n",
        "#-------------------------------------------------Longitud del set----------------------------------------------------\n",
        "print (\"La longitud del set es: \", len(sna))\n",
        "#---------------------------------------------------------------------------------------------------------------------\n",
        "print (\"---------------------------------------------------------------------------------------------------------------------\")\n",
        "\n",
        "\n",
        "#----------Crear lista de 5 números aleatorios del 1 al 10 y comprobar si cada valor está en el set inicial-----------\n",
        "l5num = [0] * 5\n",
        "for i in range(0, 5):\n",
        "  l5num[i] = rand.randint(1, 10)\n",
        "print (\"La lista de 5 números aleatorios es: \", l5num)\n",
        "for i in range(0, 5):\n",
        "  if (l5num[i] in sna) == True:\n",
        "    print (\"El número \", l5num[i], \" SÍ está en el set inicial\")\n",
        "  else:\n",
        "    print (\"El número \", l5num[i], \" NO está en el set inicial\")"
      ],
      "execution_count": 146,
      "outputs": [
        {
          "output_type": "stream",
          "text": [
            "El set es:  {1, 2, 3, 4, 5, 6, 7, 9, 10, 11, 12, 13, 14, 15, 16, 17, 18, 19, 20, 21, 22, 23, 24, 25} \n",
            "El set no puede tener más de 25 datos porque se eliminan los datos iguales\n",
            "---------------------------------------------------------------------------------------------------------------------\n",
            "La longitud del set es:  24\n",
            "---------------------------------------------------------------------------------------------------------------------\n",
            "La lista de 5 números aleatorios es:  [10, 1, 3, 1, 8]\n",
            "El número  10  SÍ está en el set inicial\n",
            "El número  1  SÍ está en el set inicial\n",
            "El número  3  SÍ está en el set inicial\n",
            "El número  1  SÍ está en el set inicial\n",
            "El número  8  NO está en el set inicial\n"
          ],
          "name": "stdout"
        }
      ]
    }
  ]
}