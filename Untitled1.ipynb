{
  "nbformat": 4,
  "nbformat_minor": 0,
  "metadata": {
    "colab": {
      "name": "Untitled1.ipynb",
      "provenance": [],
      "authorship_tag": "ABX9TyOHxZqzJ5WV3f8d53DsF5iy"
    },
    "kernelspec": {
      "name": "python3",
      "display_name": "Python 3"
    },
    "language_info": {
      "name": "python"
    }
  },
  "cells": [
    {
      "cell_type": "markdown",
      "metadata": {
        "id": "veB75ES81E-u"
      },
      "source": [
        "**Ejercicio 1**"
      ]
    },
    {
      "cell_type": "markdown",
      "metadata": {
        "id": "RNJutbrh1Nsf"
      },
      "source": [
        "Realiza una variable con tu matricula y realiza una secuencia de imprimir con tu nombre y tu matricula concatenados."
      ]
    },
    {
      "cell_type": "code",
      "metadata": {
        "colab": {
          "base_uri": "https://localhost:8080/"
        },
        "id": "auT7jScx0r8Y",
        "outputId": "d8c7436a-05ab-4277-e822-7db1cd96dd03"
      },
      "source": [
        "mat = \"1941475\"\n",
        "print (\"Jesús Alfonso Galindo Vázquez\", mat)"
      ],
      "execution_count": 1,
      "outputs": [
        {
          "output_type": "stream",
          "text": [
            "Jesús Alfonso Galindo Vázquez 1941475\n"
          ],
          "name": "stdout"
        }
      ]
    }
  ]
}